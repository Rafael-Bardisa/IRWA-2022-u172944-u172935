{
 "cells": [
  {
   "cell_type": "code",
   "execution_count": 1,
   "id": "cf6d8963-aa98-40f2-8399-94b866d9c18e",
   "metadata": {},
   "outputs": [],
   "source": [
    "# mount google drive if using google collab, else skip\n",
    "\n",
    "try:\n",
    "    from google.colab import drive\n",
    "    drive.mount('/content/drive')\n",
    "    \n",
    "except ModuleNotFoundError:\n",
    "    pass"
   ]
  },
  {
   "cell_type": "code",
   "execution_count": 2,
   "id": "e2a1daf4-842d-4c00-b294-0efef0747570",
   "metadata": {},
   "outputs": [],
   "source": [
    "import json"
   ]
  },
  {
   "cell_type": "code",
   "execution_count": null,
   "id": "811c5e1e-09a0-41c5-99c9-8bd7a0cca70c",
   "metadata": {},
   "outputs": [],
   "source": [
    "# uhh documentacion\n",
    "\n",
    "with open(\"data/tw_hurricane_data.json\", \"r\") as f:\n",
    "    data = [json.loads(tweet) for tweet in f]"
   ]
  },
  {
   "cell_type": "code",
   "execution_count": null,
   "id": "a7532377-9bb3-4c68-8a6f-62237a1622b8",
   "metadata": {},
   "outputs": [],
   "source": [
    "# read json\n",
    "    '''\n",
    "    Removing stop words \n",
    "    Tokenization\n",
    "    Removing punctuation marks \n",
    "    Stemming\n",
    "    and... anything else you think it's needed (bonus point)\n",
    "    '''\n",
    "# tweet id to document id\n",
    "# ...\n",
    "# \n",
    "# ...\n",
    "# tweets as Tweet | Username | Date | Hashtags | Likes | Retweets | Url"
   ]
  }
 ],
 "metadata": {
  "kernelspec": {
   "display_name": "Python 3 (ipykernel)",
   "language": "python",
   "name": "python3"
  },
  "language_info": {
   "codemirror_mode": {
    "name": "ipython",
    "version": 3
   },
   "file_extension": ".py",
   "mimetype": "text/x-python",
   "name": "python",
   "nbconvert_exporter": "python",
   "pygments_lexer": "ipython3",
   "version": "3.10.2"
  }
 },
 "nbformat": 4,
 "nbformat_minor": 5
}
