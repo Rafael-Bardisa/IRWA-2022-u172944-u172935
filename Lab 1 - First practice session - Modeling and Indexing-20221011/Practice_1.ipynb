{
  "cells": [
    {
      "cell_type": "markdown",
      "metadata": {
        "id": "iiB2f3Y-5eXS"
      },
      "source": [
        "# Information Retrieval and Web Analytics\n",
        "\n",
        "# Part 1: Text Processing\n"
      ],
      "id": "iiB2f3Y-5eXS"
    },
    {
      "cell_type": "code",
      "execution_count": 1,
      "id": "cf6d8963-aa98-40f2-8399-94b866d9c18e",
      "metadata": {
        "colab": {
          "base_uri": "https://localhost:8080/"
        },
        "id": "cf6d8963-aa98-40f2-8399-94b866d9c18e",
        "outputId": "79c6ee49-98f0-4be7-8e5a-5c7da6c5a0b5"
      },
      "outputs": [
        {
          "output_type": "stream",
          "name": "stdout",
          "text": [
            "Drive already mounted at /content/drive; to attempt to forcibly remount, call drive.mount(\"/content/drive\", force_remount=True).\n"
          ]
        }
      ],
      "source": [
        "# mount google drive if using google collab, else skip\n",
        "# we are not using it because it is more comfortable to use jupyter lab\n",
        "\n",
        "try:\n",
        "    from google.colab import drive\n",
        "    drive.mount('/content/drive')\n",
        "    \n",
        "except ModuleNotFoundError:\n",
        "    pass"
      ]
    },
    {
      "cell_type": "code",
      "execution_count": 2,
      "id": "e2a1daf4-842d-4c00-b294-0efef0747570",
      "metadata": {
        "colab": {
          "base_uri": "https://localhost:8080/"
        },
        "id": "e2a1daf4-842d-4c00-b294-0efef0747570",
        "outputId": "5ccc48e5-3083-45e8-d258-ddb2b90790ac"
      },
      "outputs": [
        {
          "output_type": "stream",
          "name": "stderr",
          "text": [
            "[nltk_data] Downloading package stopwords to /root/nltk_data...\n",
            "[nltk_data]   Package stopwords is already up-to-date!\n"
          ]
        },
        {
          "output_type": "execute_result",
          "data": {
            "text/plain": [
              "True"
            ]
          },
          "metadata": {},
          "execution_count": 2
        }
      ],
      "source": [
        "# required imports for the notebook\n",
        "\n",
        "import json\n",
        "import csv\n",
        "\n",
        "import nltk\n",
        "nltk.download('stopwords')\n"
      ]
    },
    {
      "cell_type": "code",
      "execution_count": 3,
      "id": "811c5e1e-09a0-41c5-99c9-8bd7a0cca70c",
      "metadata": {
        "colab": {
          "base_uri": "https://localhost:8080/"
        },
        "id": "811c5e1e-09a0-41c5-99c9-8bd7a0cca70c",
        "outputId": "5eafa7f3-5df0-4563-ed36-9fee8546d807"
      },
      "outputs": [
        {
          "output_type": "stream",
          "name": "stdout",
          "text": [
            "doc_1\n"
          ]
        }
      ],
      "source": [
        "#TODO documentacion\n",
        "# get tweets\n",
        "with open(\"drive/MyDrive/data/tw_hurricane_data.json\", \"r\") as tweet_file:\n",
        "    raw_tweets = [json.loads(tweet) for tweet in tweet_file]\n",
        "    \n",
        "# get dictionary to map tweet ids to doc ids\n",
        "# we know the ids file is a list of [doc_id \\t tweet_id]\n",
        "with open(\"drive/MyDrive/data/tweet_document_ids_map.csv\", \"r\") as id_file:\n",
        "    ids = csv.reader(id_file, delimiter=\"\\t\")\n",
        "    dict_ids = {id_to_id[1]: id_to_id[0] for id_to_id in list(ids)}\n",
        "    \n",
        "# map tweet ids with doc ids\n",
        "for tweet in raw_tweets:\n",
        "    tweet_id = str(tweet[\"id\"])\n",
        "    tweet[\"id\"] = dict_ids[tweet_id]\n",
        "    \n",
        "print(raw_tweets[0][\"id\"])"
      ]
    },
    {
      "cell_type": "code",
      "execution_count": 4,
      "id": "4975394d-00bc-43a0-af64-bc395eb1b11c",
      "metadata": {
        "id": "4975394d-00bc-43a0-af64-bc395eb1b11c"
      },
      "outputs": [],
      "source": [
        "# list(raw_tweets[0][\"entities\"][\"hashtags\"][0][\"text\"])"
      ]
    },
    {
      "cell_type": "code",
      "source": [
        "import pandas as pd\n",
        "df = pd.read_json('drive/MyDrive/data/tw_hurricane_data.json',lines=True)"
      ],
      "metadata": {
        "id": "HeK-m09ohD79"
      },
      "id": "HeK-m09ohD79",
      "execution_count": 5,
      "outputs": []
    },
    {
      "cell_type": "code",
      "source": [
        "new = df[['id','full_text', 'user','created_at','entities', 'favorite_count', 'retweet_count']].copy()"
      ],
      "metadata": {
        "id": "b_miHSTziZ78"
      },
      "id": "b_miHSTziZ78",
      "execution_count": 6,
      "outputs": []
    },
    {
      "cell_type": "code",
      "source": [
        "url=[]\n",
        "has=[]\n",
        "user=[]\n",
        "for ele in range(len(new)):\n",
        "  has.append(new['entities'][ele]['hashtags'][0][\"text\"])\n",
        "  user.append(new['user'][ele]['name'])\n",
        "  try:\n",
        "    url.append(new['entities'][ele]['media'][0][\"expanded_url\"])\n",
        "  except: \n",
        "    url.append('')\n",
        "new['url'] = url\n",
        "new['hashtags'] = has\n",
        "new['user'] = user"
      ],
      "metadata": {
        "id": "W5rX-Zv-vOVN"
      },
      "id": "W5rX-Zv-vOVN",
      "execution_count": 8,
      "outputs": []
    },
    {
      "cell_type": "code",
      "source": [
        "new.drop(['entities'], axis=1)"
      ],
      "metadata": {
        "colab": {
          "base_uri": "https://localhost:8080/",
          "height": 835
        },
        "id": "LPkyUQNJx-aB",
        "outputId": "b869acc9-f017-40bb-e9c2-18a8c7aa637d"
      },
      "id": "LPkyUQNJx-aB",
      "execution_count": 10,
      "outputs": [
        {
          "output_type": "execute_result",
          "data": {
            "text/plain": [
              "                       id                                          full_text  \\\n",
              "0     1575918182698979328  So this will keep spinning over us until 7 pm…...   \n",
              "1     1575918151862304768  Our hearts go out to all those affected by #Hu...   \n",
              "2     1575918140839673873  Kissimmee neighborhood off of Michigan Ave. \\n...   \n",
              "3     1575918135009738752  I have this one tree in my backyard that scare...   \n",
              "4     1575918119251419136  @AshleyRuizWx @Stephan89441722 @lilmizzheidi @...   \n",
              "...                   ...                                                ...   \n",
              "3995  1575856268022992896  The CFRD, @CarrboroPD , Carrboro Public Works,...   \n",
              "3996  1575856245650919424  Why isn’t @OsceolaCountyFl listed on the @fema...   \n",
              "3997  1575856228886089728  So it really wasn't #HurricaneIan that flooded...   \n",
              "3998  1575856226139017216  Damage in my area in Punta Gorda...a thread. I...   \n",
              "3999  1575856225908326400  This is awful.   https://t.co/BzhXaAPv7B￼\\n\\n#...   \n",
              "\n",
              "                      user                created_at  favorite_count  \\\n",
              "0                     Suz👻 2022-09-30 18:39:08+00:00               0   \n",
              "1                     Lytx 2022-09-30 18:39:01+00:00               0   \n",
              "2        Christopher Heath 2022-09-30 18:38:58+00:00               0   \n",
              "3                   alex ✨ 2022-09-30 18:38:57+00:00               0   \n",
              "4                   Tess 💋 2022-09-30 18:38:53+00:00               0   \n",
              "...                    ...                       ...             ...   \n",
              "3995  Carrboro Fire-Rescue 2022-09-30 14:33:06+00:00               2   \n",
              "3996         BaconBitsNews 2022-09-30 14:33:01+00:00               0   \n",
              "3997              @jganyfl 2022-09-30 14:32:57+00:00              16   \n",
              "3998             CJ Haddad 2022-09-30 14:32:56+00:00               2   \n",
              "3999      Ohemgeeitsalyssa 2022-09-30 14:32:56+00:00               0   \n",
              "\n",
              "      retweet_count      hashtags  \\\n",
              "0                 0  HurricaneIan   \n",
              "1                 0  HurricaneIan   \n",
              "2                 0  HurricaneIan   \n",
              "3                 0          scwx   \n",
              "4                 0  HurricaneIan   \n",
              "...             ...           ...   \n",
              "3995              0  CarrboroSafe   \n",
              "3996              0     Kissimmee   \n",
              "3997              8  HurricaneIan   \n",
              "3998              1  HurricaneIan   \n",
              "3999              0      DeSantis   \n",
              "\n",
              "                                                    url  \n",
              "0     https://twitter.com/suzjdean/status/1575918182...  \n",
              "1                                                        \n",
              "2     https://twitter.com/CHeathWFTV/status/15759181...  \n",
              "3                                                        \n",
              "4                                                        \n",
              "...                                                 ...  \n",
              "3995                                                     \n",
              "3996                                                     \n",
              "3997  https://twitter.com/jganyfl1/status/1575856228...  \n",
              "3998  https://twitter.com/haddad_cj/status/157585622...  \n",
              "3999                                                     \n",
              "\n",
              "[4000 rows x 8 columns]"
            ],
            "text/html": [
              "\n",
              "  <div id=\"df-a3c40a37-2aa8-4b8e-a8c8-cffa4df81ec2\">\n",
              "    <div class=\"colab-df-container\">\n",
              "      <div>\n",
              "<style scoped>\n",
              "    .dataframe tbody tr th:only-of-type {\n",
              "        vertical-align: middle;\n",
              "    }\n",
              "\n",
              "    .dataframe tbody tr th {\n",
              "        vertical-align: top;\n",
              "    }\n",
              "\n",
              "    .dataframe thead th {\n",
              "        text-align: right;\n",
              "    }\n",
              "</style>\n",
              "<table border=\"1\" class=\"dataframe\">\n",
              "  <thead>\n",
              "    <tr style=\"text-align: right;\">\n",
              "      <th></th>\n",
              "      <th>id</th>\n",
              "      <th>full_text</th>\n",
              "      <th>user</th>\n",
              "      <th>created_at</th>\n",
              "      <th>favorite_count</th>\n",
              "      <th>retweet_count</th>\n",
              "      <th>hashtags</th>\n",
              "      <th>url</th>\n",
              "    </tr>\n",
              "  </thead>\n",
              "  <tbody>\n",
              "    <tr>\n",
              "      <th>0</th>\n",
              "      <td>1575918182698979328</td>\n",
              "      <td>So this will keep spinning over us until 7 pm…...</td>\n",
              "      <td>Suz👻</td>\n",
              "      <td>2022-09-30 18:39:08+00:00</td>\n",
              "      <td>0</td>\n",
              "      <td>0</td>\n",
              "      <td>HurricaneIan</td>\n",
              "      <td>https://twitter.com/suzjdean/status/1575918182...</td>\n",
              "    </tr>\n",
              "    <tr>\n",
              "      <th>1</th>\n",
              "      <td>1575918151862304768</td>\n",
              "      <td>Our hearts go out to all those affected by #Hu...</td>\n",
              "      <td>Lytx</td>\n",
              "      <td>2022-09-30 18:39:01+00:00</td>\n",
              "      <td>0</td>\n",
              "      <td>0</td>\n",
              "      <td>HurricaneIan</td>\n",
              "      <td></td>\n",
              "    </tr>\n",
              "    <tr>\n",
              "      <th>2</th>\n",
              "      <td>1575918140839673873</td>\n",
              "      <td>Kissimmee neighborhood off of Michigan Ave. \\n...</td>\n",
              "      <td>Christopher Heath</td>\n",
              "      <td>2022-09-30 18:38:58+00:00</td>\n",
              "      <td>0</td>\n",
              "      <td>0</td>\n",
              "      <td>HurricaneIan</td>\n",
              "      <td>https://twitter.com/CHeathWFTV/status/15759181...</td>\n",
              "    </tr>\n",
              "    <tr>\n",
              "      <th>3</th>\n",
              "      <td>1575918135009738752</td>\n",
              "      <td>I have this one tree in my backyard that scare...</td>\n",
              "      <td>alex ✨</td>\n",
              "      <td>2022-09-30 18:38:57+00:00</td>\n",
              "      <td>0</td>\n",
              "      <td>0</td>\n",
              "      <td>scwx</td>\n",
              "      <td></td>\n",
              "    </tr>\n",
              "    <tr>\n",
              "      <th>4</th>\n",
              "      <td>1575918119251419136</td>\n",
              "      <td>@AshleyRuizWx @Stephan89441722 @lilmizzheidi @...</td>\n",
              "      <td>Tess 💋</td>\n",
              "      <td>2022-09-30 18:38:53+00:00</td>\n",
              "      <td>0</td>\n",
              "      <td>0</td>\n",
              "      <td>HurricaneIan</td>\n",
              "      <td></td>\n",
              "    </tr>\n",
              "    <tr>\n",
              "      <th>...</th>\n",
              "      <td>...</td>\n",
              "      <td>...</td>\n",
              "      <td>...</td>\n",
              "      <td>...</td>\n",
              "      <td>...</td>\n",
              "      <td>...</td>\n",
              "      <td>...</td>\n",
              "      <td>...</td>\n",
              "    </tr>\n",
              "    <tr>\n",
              "      <th>3995</th>\n",
              "      <td>1575856268022992896</td>\n",
              "      <td>The CFRD, @CarrboroPD , Carrboro Public Works,...</td>\n",
              "      <td>Carrboro Fire-Rescue</td>\n",
              "      <td>2022-09-30 14:33:06+00:00</td>\n",
              "      <td>2</td>\n",
              "      <td>0</td>\n",
              "      <td>CarrboroSafe</td>\n",
              "      <td></td>\n",
              "    </tr>\n",
              "    <tr>\n",
              "      <th>3996</th>\n",
              "      <td>1575856245650919424</td>\n",
              "      <td>Why isn’t @OsceolaCountyFl listed on the @fema...</td>\n",
              "      <td>BaconBitsNews</td>\n",
              "      <td>2022-09-30 14:33:01+00:00</td>\n",
              "      <td>0</td>\n",
              "      <td>0</td>\n",
              "      <td>Kissimmee</td>\n",
              "      <td></td>\n",
              "    </tr>\n",
              "    <tr>\n",
              "      <th>3997</th>\n",
              "      <td>1575856228886089728</td>\n",
              "      <td>So it really wasn't #HurricaneIan that flooded...</td>\n",
              "      <td>@jganyfl</td>\n",
              "      <td>2022-09-30 14:32:57+00:00</td>\n",
              "      <td>16</td>\n",
              "      <td>8</td>\n",
              "      <td>HurricaneIan</td>\n",
              "      <td>https://twitter.com/jganyfl1/status/1575856228...</td>\n",
              "    </tr>\n",
              "    <tr>\n",
              "      <th>3998</th>\n",
              "      <td>1575856226139017216</td>\n",
              "      <td>Damage in my area in Punta Gorda...a thread. I...</td>\n",
              "      <td>CJ Haddad</td>\n",
              "      <td>2022-09-30 14:32:56+00:00</td>\n",
              "      <td>2</td>\n",
              "      <td>1</td>\n",
              "      <td>HurricaneIan</td>\n",
              "      <td>https://twitter.com/haddad_cj/status/157585622...</td>\n",
              "    </tr>\n",
              "    <tr>\n",
              "      <th>3999</th>\n",
              "      <td>1575856225908326400</td>\n",
              "      <td>This is awful.   https://t.co/BzhXaAPv7B￼\\n\\n#...</td>\n",
              "      <td>Ohemgeeitsalyssa</td>\n",
              "      <td>2022-09-30 14:32:56+00:00</td>\n",
              "      <td>0</td>\n",
              "      <td>0</td>\n",
              "      <td>DeSantis</td>\n",
              "      <td></td>\n",
              "    </tr>\n",
              "  </tbody>\n",
              "</table>\n",
              "<p>4000 rows × 8 columns</p>\n",
              "</div>\n",
              "      <button class=\"colab-df-convert\" onclick=\"convertToInteractive('df-a3c40a37-2aa8-4b8e-a8c8-cffa4df81ec2')\"\n",
              "              title=\"Convert this dataframe to an interactive table.\"\n",
              "              style=\"display:none;\">\n",
              "        \n",
              "  <svg xmlns=\"http://www.w3.org/2000/svg\" height=\"24px\"viewBox=\"0 0 24 24\"\n",
              "       width=\"24px\">\n",
              "    <path d=\"M0 0h24v24H0V0z\" fill=\"none\"/>\n",
              "    <path d=\"M18.56 5.44l.94 2.06.94-2.06 2.06-.94-2.06-.94-.94-2.06-.94 2.06-2.06.94zm-11 1L8.5 8.5l.94-2.06 2.06-.94-2.06-.94L8.5 2.5l-.94 2.06-2.06.94zm10 10l.94 2.06.94-2.06 2.06-.94-2.06-.94-.94-2.06-.94 2.06-2.06.94z\"/><path d=\"M17.41 7.96l-1.37-1.37c-.4-.4-.92-.59-1.43-.59-.52 0-1.04.2-1.43.59L10.3 9.45l-7.72 7.72c-.78.78-.78 2.05 0 2.83L4 21.41c.39.39.9.59 1.41.59.51 0 1.02-.2 1.41-.59l7.78-7.78 2.81-2.81c.8-.78.8-2.07 0-2.86zM5.41 20L4 18.59l7.72-7.72 1.47 1.35L5.41 20z\"/>\n",
              "  </svg>\n",
              "      </button>\n",
              "      \n",
              "  <style>\n",
              "    .colab-df-container {\n",
              "      display:flex;\n",
              "      flex-wrap:wrap;\n",
              "      gap: 12px;\n",
              "    }\n",
              "\n",
              "    .colab-df-convert {\n",
              "      background-color: #E8F0FE;\n",
              "      border: none;\n",
              "      border-radius: 50%;\n",
              "      cursor: pointer;\n",
              "      display: none;\n",
              "      fill: #1967D2;\n",
              "      height: 32px;\n",
              "      padding: 0 0 0 0;\n",
              "      width: 32px;\n",
              "    }\n",
              "\n",
              "    .colab-df-convert:hover {\n",
              "      background-color: #E2EBFA;\n",
              "      box-shadow: 0px 1px 2px rgba(60, 64, 67, 0.3), 0px 1px 3px 1px rgba(60, 64, 67, 0.15);\n",
              "      fill: #174EA6;\n",
              "    }\n",
              "\n",
              "    [theme=dark] .colab-df-convert {\n",
              "      background-color: #3B4455;\n",
              "      fill: #D2E3FC;\n",
              "    }\n",
              "\n",
              "    [theme=dark] .colab-df-convert:hover {\n",
              "      background-color: #434B5C;\n",
              "      box-shadow: 0px 1px 3px 1px rgba(0, 0, 0, 0.15);\n",
              "      filter: drop-shadow(0px 1px 2px rgba(0, 0, 0, 0.3));\n",
              "      fill: #FFFFFF;\n",
              "    }\n",
              "  </style>\n",
              "\n",
              "      <script>\n",
              "        const buttonEl =\n",
              "          document.querySelector('#df-a3c40a37-2aa8-4b8e-a8c8-cffa4df81ec2 button.colab-df-convert');\n",
              "        buttonEl.style.display =\n",
              "          google.colab.kernel.accessAllowed ? 'block' : 'none';\n",
              "\n",
              "        async function convertToInteractive(key) {\n",
              "          const element = document.querySelector('#df-a3c40a37-2aa8-4b8e-a8c8-cffa4df81ec2');\n",
              "          const dataTable =\n",
              "            await google.colab.kernel.invokeFunction('convertToInteractive',\n",
              "                                                     [key], {});\n",
              "          if (!dataTable) return;\n",
              "\n",
              "          const docLinkHtml = 'Like what you see? Visit the ' +\n",
              "            '<a target=\"_blank\" href=https://colab.research.google.com/notebooks/data_table.ipynb>data table notebook</a>'\n",
              "            + ' to learn more about interactive tables.';\n",
              "          element.innerHTML = '';\n",
              "          dataTable['output_type'] = 'display_data';\n",
              "          await google.colab.output.renderOutput(dataTable, element);\n",
              "          const docLink = document.createElement('div');\n",
              "          docLink.innerHTML = docLinkHtml;\n",
              "          element.appendChild(docLink);\n",
              "        }\n",
              "      </script>\n",
              "    </div>\n",
              "  </div>\n",
              "  "
            ]
          },
          "metadata": {},
          "execution_count": 10
        }
      ]
    },
    {
      "cell_type": "code",
      "source": [
        "def build_terms(line):\n",
        "    \"\"\"\n",
        "    Preprocess the article text (title + body) removing stop words, stemming,\n",
        "    transforming in lowercase and return the tokens of the text.\n",
        "    \n",
        "    Argument:\n",
        "    line -- string (text) to be preprocessed\n",
        "    \n",
        "    Returns:\n",
        "    line - a list of tokens corresponding to the input text after the preprocessing\n",
        "    \"\"\"\n",
        "\n",
        "    stemmer = PorterStemmer()\n",
        "    stop_words = set(stopwords.words(\"english\"))\n",
        "    line = line.lower()\n",
        "    line = line.split()  # Tokenize the text to get a list of terms\n",
        "    line = [x for x in line if x not in stop_words]  # eliminate the stopwords\n",
        "    line = [stemmer.stem(word) for word in line] # perform stemming (HINT: use List Comprehension)\n",
        "    return line"
      ],
      "metadata": {
        "id": "RQLRhINXeYGV"
      },
      "id": "RQLRhINXeYGV",
      "execution_count": 11,
      "outputs": []
    },
    {
      "cell_type": "code",
      "execution_count": 12,
      "id": "a7532377-9bb3-4c68-8a6f-62237a1622b8",
      "metadata": {
        "colab": {
          "base_uri": "https://localhost:8080/",
          "height": 131
        },
        "id": "a7532377-9bb3-4c68-8a6f-62237a1622b8",
        "outputId": "1d87b811-6b4a-4865-c13c-9d7286c2ece6"
      },
      "outputs": [
        {
          "output_type": "error",
          "ename": "IndentationError",
          "evalue": "ignored",
          "traceback": [
            "\u001b[0;36m  File \u001b[0;32m\"<ipython-input-12-6bbddee48b00>\"\u001b[0;36m, line \u001b[0;32m2\u001b[0m\n\u001b[0;31m    '''\u001b[0m\n\u001b[0m    ^\u001b[0m\n\u001b[0;31mIndentationError\u001b[0m\u001b[0;31m:\u001b[0m unexpected indent\n"
          ]
        }
      ],
      "source": [
        "# read json -> check\n",
        "    '''\n",
        "    Removing stop words \n",
        "    Tokenization\n",
        "    Removing punctuation marks \n",
        "    Stemming\n",
        "    and... anything else you think it's needed (bonus point)\n",
        "    '''\n",
        "# tweet id to document id ->check\n",
        "# ...\n",
        "# \n",
        "# ...\n",
        "# tweets as Tweet | Username | Date | Hashtags | Likes | Retweets | Url"
      ]
    }
  ],
  "metadata": {
    "kernelspec": {
      "display_name": "Python 3 (ipykernel)",
      "language": "python",
      "name": "python3"
    },
    "language_info": {
      "codemirror_mode": {
        "name": "ipython",
        "version": 3
      },
      "file_extension": ".py",
      "mimetype": "text/x-python",
      "name": "python",
      "nbconvert_exporter": "python",
      "pygments_lexer": "ipython3",
      "version": "3.10.2"
    },
    "colab": {
      "provenance": []
    }
  },
  "nbformat": 4,
  "nbformat_minor": 5
}