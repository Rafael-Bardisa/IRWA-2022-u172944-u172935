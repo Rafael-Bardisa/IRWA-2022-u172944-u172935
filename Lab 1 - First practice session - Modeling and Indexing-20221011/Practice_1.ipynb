{
 "cells": [
  {
   "cell_type": "code",
   "execution_count": 3,
   "id": "cf6d8963-aa98-40f2-8399-94b866d9c18e",
   "metadata": {},
   "outputs": [],
   "source": [
    "# mount google drive if using google collab, else skip\n",
    "# we are not using it because it is more comfortable to use jupyter lab\n",
    "\n",
    "try:\n",
    "    from google.colab import drive\n",
    "    drive.mount('/content/drive')\n",
    "    \n",
    "except ModuleNotFoundError:\n",
    "    pass"
   ]
  },
  {
   "cell_type": "code",
   "execution_count": 4,
   "id": "e2a1daf4-842d-4c00-b294-0efef0747570",
   "metadata": {},
   "outputs": [],
   "source": [
    "# required imports for the notebook\n",
    "\n",
    "import json\n",
    "import csv\n",
    "\n",
    "import ntlk\n",
    "nltk.download('stopwords')\n"
   ]
  },
  {
   "cell_type": "code",
   "execution_count": 9,
   "id": "811c5e1e-09a0-41c5-99c9-8bd7a0cca70c",
   "metadata": {},
   "outputs": [
    {
     "name": "stdout",
     "output_type": "stream",
     "text": [
      "doc_1\n"
     ]
    }
   ],
   "source": [
    "#TODO documentacion\n",
    "# get tweets\n",
    "with open(\"data/tw_hurricane_data.json\", \"r\") as tweet_file:\n",
    "    raw_tweets = [json.loads(tweet) for tweet in tweet_file]\n",
    "    \n",
    "# get dictionary to map tweet ids to doc ids\n",
    "# we know the ids file is a list of [doc_id \\t tweet_id]\n",
    "with open(\"data/tweet_document_ids_map.csv\", \"r\") as id_file:\n",
    "    ids = csv.reader(id_file, delimiter=\"\\t\")\n",
    "    dict_ids = {id_to_id[1]: id_to_id[0] for id_to_id in list(ids)}\n",
    "    \n",
    "# map tweet ids with doc ids\n",
    "for tweet in raw_tweets:\n",
    "    tweet_id = str(tweet[\"id\"])\n",
    "    tweet[\"id\"] = dict_ids[tweet_id]\n",
    "    \n",
    "print(raw_tweets[0][\"id\"])"
   ]
  },
  {
   "cell_type": "code",
   "execution_count": null,
   "id": "4975394d-00bc-43a0-af64-bc395eb1b11c",
   "metadata": {},
   "outputs": [],
   "source": [
    "# list(data[0][\"entities\"][\"hashtags\"][0][\"text\"])"
   ]
  },
  {
   "cell_type": "code",
   "execution_count": null,
   "id": "a7532377-9bb3-4c68-8a6f-62237a1622b8",
   "metadata": {},
   "outputs": [],
   "source": [
    "# read json\n",
    "    '''\n",
    "    Removing stop words \n",
    "    Tokenization\n",
    "    Removing punctuation marks \n",
    "    Stemming\n",
    "    and... anything else you think it's needed (bonus point)\n",
    "    '''\n",
    "# tweet id to document id\n",
    "# ...\n",
    "# \n",
    "# ...\n",
    "# tweets as Tweet | Username | Date | Hashtags | Likes | Retweets | Url"
   ]
  }
 ],
 "metadata": {
  "kernelspec": {
   "display_name": "Python 3 (ipykernel)",
   "language": "python",
   "name": "python3"
  },
  "language_info": {
   "codemirror_mode": {
    "name": "ipython",
    "version": 3
   },
   "file_extension": ".py",
   "mimetype": "text/x-python",
   "name": "python",
   "nbconvert_exporter": "python",
   "pygments_lexer": "ipython3",
   "version": "3.10.2"
  }
 },
 "nbformat": 4,
 "nbformat_minor": 5
}
