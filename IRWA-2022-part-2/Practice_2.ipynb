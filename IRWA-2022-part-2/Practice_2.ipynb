{
  "cells": [
    {
      "cell_type": "markdown",
      "id": "iiB2f3Y-5eXS",
      "metadata": {
        "id": "iiB2f3Y-5eXS"
      },
      "source": [
        "# Information Retrieval and Web Analytics\n",
        "\n",
        "# Part 2: Indexing\n"
      ]
    },
    {
      "cell_type": "code",
      "execution_count": 1,
      "id": "cf6d8963-aa98-40f2-8399-94b866d9c18e",
      "metadata": {
        "colab": {
          "base_uri": "https://localhost:8080/"
        },
        "id": "cf6d8963-aa98-40f2-8399-94b866d9c18e",
        "outputId": "302ed6ae-5372-44b3-eec9-5e83a854e875"
      },
      "outputs": [
        {
          "output_type": "stream",
          "name": "stdout",
          "text": [
            "Mounted at /content/drive\n"
          ]
        }
      ],
      "source": [
        "# mount google drive if using google collab, else skip\n",
        "# we are not using it because it is more comfortable to use jupyter lab\n",
        "\n",
        "BASEDIR = '.'\n",
        "\n",
        "try:\n",
        "    from google.colab import drive\n",
        "    drive.mount('/content/drive')\n",
        "    BASEDIR = 'drive/MyDrive'\n",
        "    \n",
        "except ModuleNotFoundError:\n",
        "    pass"
      ]
    },
    {
      "cell_type": "code",
      "execution_count": 2,
      "id": "e2a1daf4-842d-4c00-b294-0efef0747570",
      "metadata": {
        "id": "e2a1daf4-842d-4c00-b294-0efef0747570",
        "outputId": "94e69d0d-3f2a-40f4-f36a-5303e2422089",
        "colab": {
          "base_uri": "https://localhost:8080/"
        }
      },
      "outputs": [
        {
          "output_type": "stream",
          "name": "stderr",
          "text": [
            "[nltk_data] Downloading package stopwords to /root/nltk_data...\n",
            "[nltk_data]   Unzipping corpora/stopwords.zip.\n"
          ]
        }
      ],
      "source": [
        "# required imports for the notebook\n",
        "\n",
        "import json\n",
        "import csv\n",
        "\n",
        "from nltk.stem import PorterStemmer\n",
        "import nltk\n",
        "nltk.download('stopwords')\n",
        "from nltk.corpus import stopwords\n",
        "import pandas as pd"
      ]
    },
    {
      "cell_type": "code",
      "execution_count": 4,
      "id": "HeK-m09ohD79",
      "metadata": {
        "id": "HeK-m09ohD79",
        "outputId": "48d50402-14c7-4c3d-d334-928082037c3e",
        "colab": {
          "base_uri": "https://localhost:8080/"
        }
      },
      "outputs": [
        {
          "output_type": "stream",
          "name": "stderr",
          "text": [
            "/usr/local/lib/python3.7/dist-packages/IPython/core/interactiveshell.py:3326: FutureWarning: In a future version of pandas all arguments of read_csv except for the argument 'filepath_or_buffer' will be keyword-only\n",
            "  exec(code_obj, self.user_global_ns, self.user_ns)\n"
          ]
        }
      ],
      "source": [
        "# read the csv file as a dataframe\n",
        "df = pd.read_csv(f'{BASEDIR}/data/tweet_document_ids_map.csv', 'r')"
      ]
    },
    {
      "cell_type": "code",
      "source": [],
      "metadata": {
        "id": "k2z7L2Z5D3-z"
      },
      "id": "k2z7L2Z5D3-z",
      "execution_count": null,
      "outputs": []
    }
  ],
  "metadata": {
    "colab": {
      "provenance": []
    },
    "kernelspec": {
      "display_name": "Python 3 (ipykernel)",
      "language": "python",
      "name": "python3"
    },
    "language_info": {
      "codemirror_mode": {
        "name": "ipython",
        "version": 3
      },
      "file_extension": ".py",
      "mimetype": "text/x-python",
      "name": "python",
      "nbconvert_exporter": "python",
      "pygments_lexer": "ipython3",
      "version": "3.10.2"
    }
  },
  "nbformat": 4,
  "nbformat_minor": 5
}