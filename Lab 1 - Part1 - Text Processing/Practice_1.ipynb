{
  "cells": [
    {
      "cell_type": "markdown",
      "metadata": {
        "id": "iiB2f3Y-5eXS"
      },
      "source": [
        "# Information Retrieval and Web Analytics\n",
        "\n",
        "# Part 1: Text Processing\n"
      ],
      "id": "iiB2f3Y-5eXS"
    },
    {
      "cell_type": "code",
      "execution_count": 1,
      "id": "cf6d8963-aa98-40f2-8399-94b866d9c18e",
      "metadata": {
        "colab": {
          "base_uri": "https://localhost:8080/"
        },
        "id": "cf6d8963-aa98-40f2-8399-94b866d9c18e",
        "outputId": "fb8e70ea-c01f-40d0-db5e-1fabdfd92041"
      },
      "outputs": [
        {
          "output_type": "stream",
          "name": "stdout",
          "text": [
            "Drive already mounted at /content/drive; to attempt to forcibly remount, call drive.mount(\"/content/drive\", force_remount=True).\n"
          ]
        }
      ],
      "source": [
        "# mount google drive if using google collab, else skip\n",
        "# we are not using it because it is more comfortable to use jupyter lab\n",
        "\n",
        "try:\n",
        "    from google.colab import drive\n",
        "    drive.mount('/content/drive')\n",
        "    \n",
        "except ModuleNotFoundError:\n",
        "    pass"
      ]
    },
    {
      "cell_type": "code",
      "execution_count": 2,
      "id": "e2a1daf4-842d-4c00-b294-0efef0747570",
      "metadata": {
        "id": "e2a1daf4-842d-4c00-b294-0efef0747570"
      },
      "outputs": [],
      "source": [
        "# required imports for the notebook\n",
        "\n",
        "import json\n",
        "import csv\n",
        "\n",
        "from nltk.stem import PorterStemmer\n",
        "from nltk.corpus import stopwords\n",
        "import pandas as pd"
      ]
    },
    {
      "cell_type": "code",
      "source": [
        "# read the json file as a dataframe\n",
        "df = pd.read_json('drive/MyDrive/data/tw_hurricane_data.json',lines=True)"
      ],
      "metadata": {
        "id": "HeK-m09ohD79"
      },
      "id": "HeK-m09ohD79",
      "execution_count": 3,
      "outputs": []
    },
    {
      "cell_type": "code",
      "source": [
        "# create a dataframe with the features wanted\n",
        "tweets = df[['id','full_text', 'user','created_at','entities', 'favorite_count', 'retweet_count']].copy()"
      ],
      "metadata": {
        "id": "b_miHSTziZ78"
      },
      "id": "b_miHSTziZ78",
      "execution_count": 4,
      "outputs": []
    },
    {
      "cell_type": "code",
      "source": [
        "# correct different features inside the dataframe\n",
        "# create lists for the features we want to modify\n",
        "url=[]\n",
        "has=[]\n",
        "user=[]\n",
        "# iterate through the whole dataset\n",
        "for ele in range(len(tweets)):\n",
        "  has.append(tweets['entities'][ele]['hashtags'][0][\"text\"])  # extract the hashtags\n",
        "  user.append(tweets['user'][ele]['name'])                    # extract user names\n",
        "  try:\n",
        "    url.append(tweets['entities'][ele]['media'][0][\"expanded_url\"]) # extract url if this exists\n",
        "  except: \n",
        "    url.append('')\n",
        "# assign this lists to columns to dataframe\n",
        "tweets['url'] = url\n",
        "tweets['hashtags'] = has\n",
        "tweets['user'] = user"
      ],
      "metadata": {
        "id": "W5rX-Zv-vOVN"
      },
      "id": "W5rX-Zv-vOVN",
      "execution_count": 5,
      "outputs": []
    },
    {
      "cell_type": "code",
      "source": [
        "# drop the column used before that would not be needed after\n",
        "tweets = tweets.drop(['entities'], axis=1)"
      ],
      "metadata": {
        "id": "LPkyUQNJx-aB"
      },
      "id": "LPkyUQNJx-aB",
      "execution_count": 12,
      "outputs": []
    },
    {
      "cell_type": "code",
      "source": [
        "# reuse of the function shown in class to transform text into lowercase and erase stop words...\n",
        "def build_terms(line):\n",
        "    \"\"\"\n",
        "    Preprocess the article text (title + body) removing stop words, stemming,\n",
        "    transforming in lowercase and return the tokens of the text.\n",
        "    \n",
        "    Argument:\n",
        "    line -- string (text) to be preprocessed\n",
        "    \n",
        "    Returns:\n",
        "    line - a list of tokens corresponding to the input text after the preprocessing\n",
        "    \"\"\"\n",
        "\n",
        "    stemmer = PorterStemmer()\n",
        "    stop_words = set(stopwords.words(\"english\"))\n",
        "    line = line.lower()\n",
        "    line = line.split()  # Tokenize the text to get a list of terms\n",
        "    line = [x for x in line if x not in stop_words]  # eliminate the stopwords\n",
        "    line = [stemmer.stem(word) for word in line] # perform stemming (HINT: use List Comprehension)\n",
        "    return line"
      ],
      "metadata": {
        "id": "RQLRhINXeYGV"
      },
      "id": "RQLRhINXeYGV",
      "execution_count": 7,
      "outputs": []
    },
    {
      "cell_type": "code",
      "source": [
        "# use the function above to correct the tweet and also convert into lowercase the hastags and usernames\n",
        "for ele in range(len(tweets)):\n",
        "  text = build_terms(tweets['full_text'][ele])\n",
        "  text = [word for word in text if word.startswith('#')==False]\n",
        "  text = [word for word in text if word.startswith('@')==False]\n",
        "  text = [word for word in text if word.startswith('http')==False]\n",
        "  tweets['full_text'][ele] = ' '.join(text)\n",
        "  tweets['user'][ele] = tweets['user'][ele].lower()\n",
        "  tweets['hashtags'][ele] = tweets['hashtags'][ele].lower()"
      ],
      "metadata": {
        "colab": {
          "base_uri": "https://localhost:8080/"
        },
        "id": "hceA51tF5SK9",
        "outputId": "ad192eb7-f05c-456d-bd7e-0edf8ec6826d"
      },
      "id": "hceA51tF5SK9",
      "execution_count": 8,
      "outputs": [
        {
          "output_type": "stream",
          "name": "stderr",
          "text": [
            "/usr/local/lib/python3.7/dist-packages/ipykernel_launcher.py:7: SettingWithCopyWarning: \n",
            "A value is trying to be set on a copy of a slice from a DataFrame\n",
            "\n",
            "See the caveats in the documentation: https://pandas.pydata.org/pandas-docs/stable/user_guide/indexing.html#returning-a-view-versus-a-copy\n",
            "  import sys\n",
            "/usr/local/lib/python3.7/dist-packages/ipykernel_launcher.py:8: SettingWithCopyWarning: \n",
            "A value is trying to be set on a copy of a slice from a DataFrame\n",
            "\n",
            "See the caveats in the documentation: https://pandas.pydata.org/pandas-docs/stable/user_guide/indexing.html#returning-a-view-versus-a-copy\n",
            "  \n",
            "/usr/local/lib/python3.7/dist-packages/ipykernel_launcher.py:9: SettingWithCopyWarning: \n",
            "A value is trying to be set on a copy of a slice from a DataFrame\n",
            "\n",
            "See the caveats in the documentation: https://pandas.pydata.org/pandas-docs/stable/user_guide/indexing.html#returning-a-view-versus-a-copy\n",
            "  if __name__ == '__main__':\n"
          ]
        }
      ]
    },
    {
      "cell_type": "code",
      "source": [
        "# get dictionary to map tweet ids to doc ids\n",
        "# we know the ids file is a list of [doc_id \\t tweet_id]\n",
        "with open(\"drive/MyDrive/data/tweet_document_ids_map.csv\", \"r\") as id_file:\n",
        "    ids = csv.reader(id_file, delimiter=\"\\t\")\n",
        "    dict_ids = {id_to_id[1]: id_to_id[0] for id_to_id in list(ids)}"
      ],
      "metadata": {
        "id": "28lVkxbeLE5g"
      },
      "id": "28lVkxbeLE5g",
      "execution_count": 9,
      "outputs": []
    },
    {
      "cell_type": "code",
      "source": [
        "# map tweet ids with doc ids\n",
        "for ele in range(len(tweets)):\n",
        "    tweet_id = str(tweets[\"id\"][ele])\n",
        "    tweets[\"id\"][ele] = dict_ids[tweet_id]"
      ],
      "metadata": {
        "colab": {
          "base_uri": "https://localhost:8080/"
        },
        "id": "GMZdPWXcLjN4",
        "outputId": "e0be8f77-c191-49fe-95ec-1a1a2cfc479a"
      },
      "id": "GMZdPWXcLjN4",
      "execution_count": 10,
      "outputs": [
        {
          "output_type": "stream",
          "name": "stderr",
          "text": [
            "/usr/local/lib/python3.7/dist-packages/ipykernel_launcher.py:4: SettingWithCopyWarning: \n",
            "A value is trying to be set on a copy of a slice from a DataFrame\n",
            "\n",
            "See the caveats in the documentation: https://pandas.pydata.org/pandas-docs/stable/user_guide/indexing.html#returning-a-view-versus-a-copy\n",
            "  after removing the cwd from sys.path.\n",
            "/usr/local/lib/python3.7/dist-packages/pandas/core/indexing.py:1732: SettingWithCopyWarning: \n",
            "A value is trying to be set on a copy of a slice from a DataFrame\n",
            "\n",
            "See the caveats in the documentation: https://pandas.pydata.org/pandas-docs/stable/user_guide/indexing.html#returning-a-view-versus-a-copy\n",
            "  self._setitem_single_block(indexer, value, name)\n"
          ]
        }
      ]
    },
    {
      "cell_type": "code",
      "source": [
        "# get the head of the dataframe to visualize our result\n",
        "tweets.head()"
      ],
      "metadata": {
        "colab": {
          "base_uri": "https://localhost:8080/",
          "height": 337
        },
        "id": "3Pjhk-3EUITY",
        "outputId": "df258f22-3efc-40de-9784-bd6ed0742a6f"
      },
      "id": "3Pjhk-3EUITY",
      "execution_count": 13,
      "outputs": [
        {
          "output_type": "execute_result",
          "data": {
            "text/plain": [
              "      id                                          full_text  \\\n",
              "0  doc_1                 keep spin us 7 pm…go away already.   \n",
              "1  doc_2  heart go affect wish everyon road current brav...   \n",
              "2  doc_3                kissimme neighborhood michigan ave.   \n",
              "3  doc_4  one tree backyard scare poltergeist tree it’ s...   \n",
              "4  doc_5  pray everyon affect associ winknews. sympathi ...   \n",
              "\n",
              "                user                created_at  favorite_count  retweet_count  \\\n",
              "0               suz👻 2022-09-30 18:39:08+00:00               0              0   \n",
              "1               lytx 2022-09-30 18:39:01+00:00               0              0   \n",
              "2  christopher heath 2022-09-30 18:38:58+00:00               0              0   \n",
              "3             alex ✨ 2022-09-30 18:38:57+00:00               0              0   \n",
              "4             tess 💋 2022-09-30 18:38:53+00:00               0              0   \n",
              "\n",
              "                                                 url      hashtags  \n",
              "0  https://twitter.com/suzjdean/status/1575918182...  hurricaneian  \n",
              "1                                                     hurricaneian  \n",
              "2  https://twitter.com/CHeathWFTV/status/15759181...  hurricaneian  \n",
              "3                                                             scwx  \n",
              "4                                                     hurricaneian  "
            ],
            "text/html": [
              "\n",
              "  <div id=\"df-99e0751c-8ad2-47d5-bd37-8f019298d808\">\n",
              "    <div class=\"colab-df-container\">\n",
              "      <div>\n",
              "<style scoped>\n",
              "    .dataframe tbody tr th:only-of-type {\n",
              "        vertical-align: middle;\n",
              "    }\n",
              "\n",
              "    .dataframe tbody tr th {\n",
              "        vertical-align: top;\n",
              "    }\n",
              "\n",
              "    .dataframe thead th {\n",
              "        text-align: right;\n",
              "    }\n",
              "</style>\n",
              "<table border=\"1\" class=\"dataframe\">\n",
              "  <thead>\n",
              "    <tr style=\"text-align: right;\">\n",
              "      <th></th>\n",
              "      <th>id</th>\n",
              "      <th>full_text</th>\n",
              "      <th>user</th>\n",
              "      <th>created_at</th>\n",
              "      <th>favorite_count</th>\n",
              "      <th>retweet_count</th>\n",
              "      <th>url</th>\n",
              "      <th>hashtags</th>\n",
              "    </tr>\n",
              "  </thead>\n",
              "  <tbody>\n",
              "    <tr>\n",
              "      <th>0</th>\n",
              "      <td>doc_1</td>\n",
              "      <td>keep spin us 7 pm…go away already.</td>\n",
              "      <td>suz👻</td>\n",
              "      <td>2022-09-30 18:39:08+00:00</td>\n",
              "      <td>0</td>\n",
              "      <td>0</td>\n",
              "      <td>https://twitter.com/suzjdean/status/1575918182...</td>\n",
              "      <td>hurricaneian</td>\n",
              "    </tr>\n",
              "    <tr>\n",
              "      <th>1</th>\n",
              "      <td>doc_2</td>\n",
              "      <td>heart go affect wish everyon road current brav...</td>\n",
              "      <td>lytx</td>\n",
              "      <td>2022-09-30 18:39:01+00:00</td>\n",
              "      <td>0</td>\n",
              "      <td>0</td>\n",
              "      <td></td>\n",
              "      <td>hurricaneian</td>\n",
              "    </tr>\n",
              "    <tr>\n",
              "      <th>2</th>\n",
              "      <td>doc_3</td>\n",
              "      <td>kissimme neighborhood michigan ave.</td>\n",
              "      <td>christopher heath</td>\n",
              "      <td>2022-09-30 18:38:58+00:00</td>\n",
              "      <td>0</td>\n",
              "      <td>0</td>\n",
              "      <td>https://twitter.com/CHeathWFTV/status/15759181...</td>\n",
              "      <td>hurricaneian</td>\n",
              "    </tr>\n",
              "    <tr>\n",
              "      <th>3</th>\n",
              "      <td>doc_4</td>\n",
              "      <td>one tree backyard scare poltergeist tree it’ s...</td>\n",
              "      <td>alex ✨</td>\n",
              "      <td>2022-09-30 18:38:57+00:00</td>\n",
              "      <td>0</td>\n",
              "      <td>0</td>\n",
              "      <td></td>\n",
              "      <td>scwx</td>\n",
              "    </tr>\n",
              "    <tr>\n",
              "      <th>4</th>\n",
              "      <td>doc_5</td>\n",
              "      <td>pray everyon affect associ winknews. sympathi ...</td>\n",
              "      <td>tess 💋</td>\n",
              "      <td>2022-09-30 18:38:53+00:00</td>\n",
              "      <td>0</td>\n",
              "      <td>0</td>\n",
              "      <td></td>\n",
              "      <td>hurricaneian</td>\n",
              "    </tr>\n",
              "  </tbody>\n",
              "</table>\n",
              "</div>\n",
              "      <button class=\"colab-df-convert\" onclick=\"convertToInteractive('df-99e0751c-8ad2-47d5-bd37-8f019298d808')\"\n",
              "              title=\"Convert this dataframe to an interactive table.\"\n",
              "              style=\"display:none;\">\n",
              "        \n",
              "  <svg xmlns=\"http://www.w3.org/2000/svg\" height=\"24px\"viewBox=\"0 0 24 24\"\n",
              "       width=\"24px\">\n",
              "    <path d=\"M0 0h24v24H0V0z\" fill=\"none\"/>\n",
              "    <path d=\"M18.56 5.44l.94 2.06.94-2.06 2.06-.94-2.06-.94-.94-2.06-.94 2.06-2.06.94zm-11 1L8.5 8.5l.94-2.06 2.06-.94-2.06-.94L8.5 2.5l-.94 2.06-2.06.94zm10 10l.94 2.06.94-2.06 2.06-.94-2.06-.94-.94-2.06-.94 2.06-2.06.94z\"/><path d=\"M17.41 7.96l-1.37-1.37c-.4-.4-.92-.59-1.43-.59-.52 0-1.04.2-1.43.59L10.3 9.45l-7.72 7.72c-.78.78-.78 2.05 0 2.83L4 21.41c.39.39.9.59 1.41.59.51 0 1.02-.2 1.41-.59l7.78-7.78 2.81-2.81c.8-.78.8-2.07 0-2.86zM5.41 20L4 18.59l7.72-7.72 1.47 1.35L5.41 20z\"/>\n",
              "  </svg>\n",
              "      </button>\n",
              "      \n",
              "  <style>\n",
              "    .colab-df-container {\n",
              "      display:flex;\n",
              "      flex-wrap:wrap;\n",
              "      gap: 12px;\n",
              "    }\n",
              "\n",
              "    .colab-df-convert {\n",
              "      background-color: #E8F0FE;\n",
              "      border: none;\n",
              "      border-radius: 50%;\n",
              "      cursor: pointer;\n",
              "      display: none;\n",
              "      fill: #1967D2;\n",
              "      height: 32px;\n",
              "      padding: 0 0 0 0;\n",
              "      width: 32px;\n",
              "    }\n",
              "\n",
              "    .colab-df-convert:hover {\n",
              "      background-color: #E2EBFA;\n",
              "      box-shadow: 0px 1px 2px rgba(60, 64, 67, 0.3), 0px 1px 3px 1px rgba(60, 64, 67, 0.15);\n",
              "      fill: #174EA6;\n",
              "    }\n",
              "\n",
              "    [theme=dark] .colab-df-convert {\n",
              "      background-color: #3B4455;\n",
              "      fill: #D2E3FC;\n",
              "    }\n",
              "\n",
              "    [theme=dark] .colab-df-convert:hover {\n",
              "      background-color: #434B5C;\n",
              "      box-shadow: 0px 1px 3px 1px rgba(0, 0, 0, 0.15);\n",
              "      filter: drop-shadow(0px 1px 2px rgba(0, 0, 0, 0.3));\n",
              "      fill: #FFFFFF;\n",
              "    }\n",
              "  </style>\n",
              "\n",
              "      <script>\n",
              "        const buttonEl =\n",
              "          document.querySelector('#df-99e0751c-8ad2-47d5-bd37-8f019298d808 button.colab-df-convert');\n",
              "        buttonEl.style.display =\n",
              "          google.colab.kernel.accessAllowed ? 'block' : 'none';\n",
              "\n",
              "        async function convertToInteractive(key) {\n",
              "          const element = document.querySelector('#df-99e0751c-8ad2-47d5-bd37-8f019298d808');\n",
              "          const dataTable =\n",
              "            await google.colab.kernel.invokeFunction('convertToInteractive',\n",
              "                                                     [key], {});\n",
              "          if (!dataTable) return;\n",
              "\n",
              "          const docLinkHtml = 'Like what you see? Visit the ' +\n",
              "            '<a target=\"_blank\" href=https://colab.research.google.com/notebooks/data_table.ipynb>data table notebook</a>'\n",
              "            + ' to learn more about interactive tables.';\n",
              "          element.innerHTML = '';\n",
              "          dataTable['output_type'] = 'display_data';\n",
              "          await google.colab.output.renderOutput(dataTable, element);\n",
              "          const docLink = document.createElement('div');\n",
              "          docLink.innerHTML = docLinkHtml;\n",
              "          element.appendChild(docLink);\n",
              "        }\n",
              "      </script>\n",
              "    </div>\n",
              "  </div>\n",
              "  "
            ]
          },
          "metadata": {},
          "execution_count": 13
        }
      ]
    }
  ],
  "metadata": {
    "kernelspec": {
      "display_name": "Python 3 (ipykernel)",
      "language": "python",
      "name": "python3"
    },
    "language_info": {
      "codemirror_mode": {
        "name": "ipython",
        "version": 3
      },
      "file_extension": ".py",
      "mimetype": "text/x-python",
      "name": "python",
      "nbconvert_exporter": "python",
      "pygments_lexer": "ipython3",
      "version": "3.10.2"
    },
    "colab": {
      "provenance": []
    }
  },
  "nbformat": 4,
  "nbformat_minor": 5
}