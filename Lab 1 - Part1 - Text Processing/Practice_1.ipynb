{
  "cells": [
    {
      "cell_type": "markdown",
      "metadata": {
        "id": "iiB2f3Y-5eXS"
      },
      "source": [
        "# Information Retrieval and Web Analytics\n",
        "\n",
        "# Part 1: Text Processing\n"
      ],
      "id": "iiB2f3Y-5eXS"
    },
    {
      "cell_type": "code",
      "execution_count": 1,
      "id": "cf6d8963-aa98-40f2-8399-94b866d9c18e",
      "metadata": {
        "colab": {
          "base_uri": "https://localhost:8080/"
        },
        "id": "cf6d8963-aa98-40f2-8399-94b866d9c18e",
        "outputId": "fe98548b-76f1-416b-83e3-84d170e2ffe6"
      },
      "outputs": [
        {
          "output_type": "stream",
          "name": "stdout",
          "text": [
            "Drive already mounted at /content/drive; to attempt to forcibly remount, call drive.mount(\"/content/drive\", force_remount=True).\n"
          ]
        }
      ],
      "source": [
        "# mount google drive if using google collab, else skip\n",
        "# we are not using it because it is more comfortable to use jupyter lab\n",
        "\n",
        "try:\n",
        "    from google.colab import drive\n",
        "    drive.mount('/content/drive')\n",
        "    \n",
        "except ModuleNotFoundError:\n",
        "    pass"
      ]
    },
    {
      "cell_type": "code",
      "execution_count": 2,
      "id": "e2a1daf4-842d-4c00-b294-0efef0747570",
      "metadata": {
        "id": "e2a1daf4-842d-4c00-b294-0efef0747570"
      },
      "outputs": [],
      "source": [
        "# required imports for the notebook\n",
        "\n",
        "import json\n",
        "import csv\n",
        "import re\n",
        "\n",
        "from nltk.stem import PorterStemmer\n",
        "from nltk.corpus import stopwords\n"
      ]
    },
    {
      "cell_type": "code",
      "source": [
        "import pandas as pd\n",
        "df = pd.read_json('drive/MyDrive/data/tw_hurricane_data.json',lines=True)"
      ],
      "metadata": {
        "id": "HeK-m09ohD79"
      },
      "id": "HeK-m09ohD79",
      "execution_count": 4,
      "outputs": []
    },
    {
      "cell_type": "code",
      "source": [
        "new = df[['id','full_text', 'user','created_at','entities', 'favorite_count', 'retweet_count']].copy()"
      ],
      "metadata": {
        "id": "b_miHSTziZ78"
      },
      "id": "b_miHSTziZ78",
      "execution_count": 5,
      "outputs": []
    },
    {
      "cell_type": "code",
      "source": [
        "url=[]\n",
        "has=[]\n",
        "user=[]\n",
        "for ele in range(len(new)):\n",
        "  has.append(new['entities'][ele]['hashtags'][0][\"text\"])\n",
        "  user.append(new['user'][ele]['name'])\n",
        "  try:\n",
        "    url.append(new['entities'][ele]['media'][0][\"expanded_url\"])\n",
        "  except: \n",
        "    url.append('')\n",
        "new['url'] = url\n",
        "new['hashtags'] = has\n",
        "new['user'] = user"
      ],
      "metadata": {
        "id": "W5rX-Zv-vOVN"
      },
      "id": "W5rX-Zv-vOVN",
      "execution_count": 6,
      "outputs": []
    },
    {
      "cell_type": "code",
      "source": [
        "def build_terms(line):\n",
        "    \"\"\"\n",
        "    Preprocess the article text (title + body) removing stop words, stemming,\n",
        "    transforming in lowercase and return the tokens of the text.\n",
        "    \n",
        "    Argument:\n",
        "    line -- string (text) to be preprocessed\n",
        "    \n",
        "    Returns:\n",
        "    line - a list of tokens corresponding to the input text after the preprocessing\n",
        "    \"\"\"\n",
        "\n",
        "    stemmer = PorterStemmer()\n",
        "    stop_words = set(stopwords.words(\"english\"))\n",
        "    line = line.lower()\n",
        "    line = line.split()  # Tokenize the text to get a list of terms\n",
        "    line = [x for x in line if x not in stop_words]  # eliminate the stopwords\n",
        "    line = [stemmer.stem(word) for word in line] # perform stemming (HINT: use List Comprehension)\n",
        "    return line"
      ],
      "metadata": {
        "id": "RQLRhINXeYGV"
      },
      "id": "RQLRhINXeYGV",
      "execution_count": 7,
      "outputs": []
    },
    {
      "cell_type": "code",
      "source": [
        "tmp = build_terms(new['full_text'][0])\n",
        "print(tmp)\n",
        "tmp = [word for word in tmp if word.startswith('#')==False]\n",
        "print(tmp)\n",
        "' '.join(tmp)"
      ],
      "metadata": {
        "id": "m5owzpbD7u15",
        "outputId": "5592519e-0960-4cb9-d2d8-0ba480e7d193",
        "colab": {
          "base_uri": "https://localhost:8080/",
          "height": 70
        }
      },
      "id": "m5owzpbD7u15",
      "execution_count": 9,
      "outputs": [
        {
          "output_type": "stream",
          "name": "stdout",
          "text": [
            "['keep', 'spin', 'us', '7', 'pm…go', 'away', 'already.', '#hurricaneian', 'https://t.co/vrotxns9rz']\n",
            "['keep', 'spin', 'us', '7', 'pm…go', 'away', 'already.', 'https://t.co/vrotxns9rz']\n"
          ]
        },
        {
          "output_type": "execute_result",
          "data": {
            "text/plain": [
              "'keep spin us 7 pm…go away already. https://t.co/vrotxns9rz'"
            ],
            "application/vnd.google.colaboratory.intrinsic+json": {
              "type": "string"
            }
          },
          "metadata": {},
          "execution_count": 9
        }
      ]
    },
    {
      "cell_type": "code",
      "source": [
        "for ele in range(len(new)):\n",
        "  tmp = build_terms(new['full_text'][ele])\n",
        "  tmp = [word for word in tmp if word.startswith('#')==False]\n",
        "  tmp = [word for word in tmp if word.startswith('@')==False]\n",
        "  tmp = [word for word in tmp if word.startswith('http')==False]\n",
        "  new['full_text'][ele] = ' '.join(tmp)"
      ],
      "metadata": {
        "id": "hceA51tF5SK9",
        "outputId": "0094d672-1de9-4483-81df-45eead9e4eb6",
        "colab": {
          "base_uri": "https://localhost:8080/"
        }
      },
      "id": "hceA51tF5SK9",
      "execution_count": 10,
      "outputs": [
        {
          "output_type": "stream",
          "name": "stderr",
          "text": [
            "/usr/local/lib/python3.7/dist-packages/ipykernel_launcher.py:6: SettingWithCopyWarning: \n",
            "A value is trying to be set on a copy of a slice from a DataFrame\n",
            "\n",
            "See the caveats in the documentation: https://pandas.pydata.org/pandas-docs/stable/user_guide/indexing.html#returning-a-view-versus-a-copy\n",
            "  \n"
          ]
        }
      ]
    },
    {
      "cell_type": "code",
      "source": [
        "new.drop(['entities'], axis=1)"
      ],
      "metadata": {
        "colab": {
          "base_uri": "https://localhost:8080/",
          "height": 884
        },
        "id": "LPkyUQNJx-aB",
        "outputId": "ca6a8fe6-c07b-41e4-a4f9-7c74ca6c6cf9"
      },
      "id": "LPkyUQNJx-aB",
      "execution_count": 14,
      "outputs": [
        {
          "output_type": "execute_result",
          "data": {
            "text/plain": [
              "            id                                          full_text  \\\n",
              "0        doc_1                 keep spin us 7 pm…go away already.   \n",
              "1        doc_2  heart go affect wish everyon road current brav...   \n",
              "2        doc_3                kissimme neighborhood michigan ave.   \n",
              "3        doc_4  one tree backyard scare poltergeist tree it’ s...   \n",
              "4        doc_5  pray everyon affect associ winknews. sympathi ...   \n",
              "...        ...                                                ...   \n",
              "3995  doc_3996  cfrd, , carrboro public works, servic place st...   \n",
              "3996  doc_3997  isn’t list website? widespread flood &amp; bc ...   \n",
              "3997  doc_3998                                 realli flood flute   \n",
              "3998  doc_3999  damag area punta gorda...a thread. tropic gulf...   \n",
              "3999  doc_4000  awful. busi scheme traffick asylum seeker didn...   \n",
              "\n",
              "                      user                created_at  favorite_count  \\\n",
              "0                     Suz👻 2022-09-30 18:39:08+00:00               0   \n",
              "1                     Lytx 2022-09-30 18:39:01+00:00               0   \n",
              "2        Christopher Heath 2022-09-30 18:38:58+00:00               0   \n",
              "3                   alex ✨ 2022-09-30 18:38:57+00:00               0   \n",
              "4                   Tess 💋 2022-09-30 18:38:53+00:00               0   \n",
              "...                    ...                       ...             ...   \n",
              "3995  Carrboro Fire-Rescue 2022-09-30 14:33:06+00:00               2   \n",
              "3996         BaconBitsNews 2022-09-30 14:33:01+00:00               0   \n",
              "3997              @jganyfl 2022-09-30 14:32:57+00:00              16   \n",
              "3998             CJ Haddad 2022-09-30 14:32:56+00:00               2   \n",
              "3999      Ohemgeeitsalyssa 2022-09-30 14:32:56+00:00               0   \n",
              "\n",
              "      retweet_count                                                url  \\\n",
              "0                 0  https://twitter.com/suzjdean/status/1575918182...   \n",
              "1                 0                                                      \n",
              "2                 0  https://twitter.com/CHeathWFTV/status/15759181...   \n",
              "3                 0                                                      \n",
              "4                 0                                                      \n",
              "...             ...                                                ...   \n",
              "3995              0                                                      \n",
              "3996              0                                                      \n",
              "3997              8  https://twitter.com/jganyfl1/status/1575856228...   \n",
              "3998              1  https://twitter.com/haddad_cj/status/157585622...   \n",
              "3999              0                                                      \n",
              "\n",
              "          hashtags  \n",
              "0     HurricaneIan  \n",
              "1     HurricaneIan  \n",
              "2     HurricaneIan  \n",
              "3             scwx  \n",
              "4     HurricaneIan  \n",
              "...            ...  \n",
              "3995  CarrboroSafe  \n",
              "3996     Kissimmee  \n",
              "3997  HurricaneIan  \n",
              "3998  HurricaneIan  \n",
              "3999      DeSantis  \n",
              "\n",
              "[4000 rows x 8 columns]"
            ],
            "text/html": [
              "\n",
              "  <div id=\"df-7b5bdf18-4615-43a6-8c6a-8f354d80c61a\">\n",
              "    <div class=\"colab-df-container\">\n",
              "      <div>\n",
              "<style scoped>\n",
              "    .dataframe tbody tr th:only-of-type {\n",
              "        vertical-align: middle;\n",
              "    }\n",
              "\n",
              "    .dataframe tbody tr th {\n",
              "        vertical-align: top;\n",
              "    }\n",
              "\n",
              "    .dataframe thead th {\n",
              "        text-align: right;\n",
              "    }\n",
              "</style>\n",
              "<table border=\"1\" class=\"dataframe\">\n",
              "  <thead>\n",
              "    <tr style=\"text-align: right;\">\n",
              "      <th></th>\n",
              "      <th>id</th>\n",
              "      <th>full_text</th>\n",
              "      <th>user</th>\n",
              "      <th>created_at</th>\n",
              "      <th>favorite_count</th>\n",
              "      <th>retweet_count</th>\n",
              "      <th>url</th>\n",
              "      <th>hashtags</th>\n",
              "    </tr>\n",
              "  </thead>\n",
              "  <tbody>\n",
              "    <tr>\n",
              "      <th>0</th>\n",
              "      <td>doc_1</td>\n",
              "      <td>keep spin us 7 pm…go away already.</td>\n",
              "      <td>Suz👻</td>\n",
              "      <td>2022-09-30 18:39:08+00:00</td>\n",
              "      <td>0</td>\n",
              "      <td>0</td>\n",
              "      <td>https://twitter.com/suzjdean/status/1575918182...</td>\n",
              "      <td>HurricaneIan</td>\n",
              "    </tr>\n",
              "    <tr>\n",
              "      <th>1</th>\n",
              "      <td>doc_2</td>\n",
              "      <td>heart go affect wish everyon road current brav...</td>\n",
              "      <td>Lytx</td>\n",
              "      <td>2022-09-30 18:39:01+00:00</td>\n",
              "      <td>0</td>\n",
              "      <td>0</td>\n",
              "      <td></td>\n",
              "      <td>HurricaneIan</td>\n",
              "    </tr>\n",
              "    <tr>\n",
              "      <th>2</th>\n",
              "      <td>doc_3</td>\n",
              "      <td>kissimme neighborhood michigan ave.</td>\n",
              "      <td>Christopher Heath</td>\n",
              "      <td>2022-09-30 18:38:58+00:00</td>\n",
              "      <td>0</td>\n",
              "      <td>0</td>\n",
              "      <td>https://twitter.com/CHeathWFTV/status/15759181...</td>\n",
              "      <td>HurricaneIan</td>\n",
              "    </tr>\n",
              "    <tr>\n",
              "      <th>3</th>\n",
              "      <td>doc_4</td>\n",
              "      <td>one tree backyard scare poltergeist tree it’ s...</td>\n",
              "      <td>alex ✨</td>\n",
              "      <td>2022-09-30 18:38:57+00:00</td>\n",
              "      <td>0</td>\n",
              "      <td>0</td>\n",
              "      <td></td>\n",
              "      <td>scwx</td>\n",
              "    </tr>\n",
              "    <tr>\n",
              "      <th>4</th>\n",
              "      <td>doc_5</td>\n",
              "      <td>pray everyon affect associ winknews. sympathi ...</td>\n",
              "      <td>Tess 💋</td>\n",
              "      <td>2022-09-30 18:38:53+00:00</td>\n",
              "      <td>0</td>\n",
              "      <td>0</td>\n",
              "      <td></td>\n",
              "      <td>HurricaneIan</td>\n",
              "    </tr>\n",
              "    <tr>\n",
              "      <th>...</th>\n",
              "      <td>...</td>\n",
              "      <td>...</td>\n",
              "      <td>...</td>\n",
              "      <td>...</td>\n",
              "      <td>...</td>\n",
              "      <td>...</td>\n",
              "      <td>...</td>\n",
              "      <td>...</td>\n",
              "    </tr>\n",
              "    <tr>\n",
              "      <th>3995</th>\n",
              "      <td>doc_3996</td>\n",
              "      <td>cfrd, , carrboro public works, servic place st...</td>\n",
              "      <td>Carrboro Fire-Rescue</td>\n",
              "      <td>2022-09-30 14:33:06+00:00</td>\n",
              "      <td>2</td>\n",
              "      <td>0</td>\n",
              "      <td></td>\n",
              "      <td>CarrboroSafe</td>\n",
              "    </tr>\n",
              "    <tr>\n",
              "      <th>3996</th>\n",
              "      <td>doc_3997</td>\n",
              "      <td>isn’t list website? widespread flood &amp;amp; bc ...</td>\n",
              "      <td>BaconBitsNews</td>\n",
              "      <td>2022-09-30 14:33:01+00:00</td>\n",
              "      <td>0</td>\n",
              "      <td>0</td>\n",
              "      <td></td>\n",
              "      <td>Kissimmee</td>\n",
              "    </tr>\n",
              "    <tr>\n",
              "      <th>3997</th>\n",
              "      <td>doc_3998</td>\n",
              "      <td>realli flood flute</td>\n",
              "      <td>@jganyfl</td>\n",
              "      <td>2022-09-30 14:32:57+00:00</td>\n",
              "      <td>16</td>\n",
              "      <td>8</td>\n",
              "      <td>https://twitter.com/jganyfl1/status/1575856228...</td>\n",
              "      <td>HurricaneIan</td>\n",
              "    </tr>\n",
              "    <tr>\n",
              "      <th>3998</th>\n",
              "      <td>doc_3999</td>\n",
              "      <td>damag area punta gorda...a thread. tropic gulf...</td>\n",
              "      <td>CJ Haddad</td>\n",
              "      <td>2022-09-30 14:32:56+00:00</td>\n",
              "      <td>2</td>\n",
              "      <td>1</td>\n",
              "      <td>https://twitter.com/haddad_cj/status/157585622...</td>\n",
              "      <td>HurricaneIan</td>\n",
              "    </tr>\n",
              "    <tr>\n",
              "      <th>3999</th>\n",
              "      <td>doc_4000</td>\n",
              "      <td>awful. busi scheme traffick asylum seeker didn...</td>\n",
              "      <td>Ohemgeeitsalyssa</td>\n",
              "      <td>2022-09-30 14:32:56+00:00</td>\n",
              "      <td>0</td>\n",
              "      <td>0</td>\n",
              "      <td></td>\n",
              "      <td>DeSantis</td>\n",
              "    </tr>\n",
              "  </tbody>\n",
              "</table>\n",
              "<p>4000 rows × 8 columns</p>\n",
              "</div>\n",
              "      <button class=\"colab-df-convert\" onclick=\"convertToInteractive('df-7b5bdf18-4615-43a6-8c6a-8f354d80c61a')\"\n",
              "              title=\"Convert this dataframe to an interactive table.\"\n",
              "              style=\"display:none;\">\n",
              "        \n",
              "  <svg xmlns=\"http://www.w3.org/2000/svg\" height=\"24px\"viewBox=\"0 0 24 24\"\n",
              "       width=\"24px\">\n",
              "    <path d=\"M0 0h24v24H0V0z\" fill=\"none\"/>\n",
              "    <path d=\"M18.56 5.44l.94 2.06.94-2.06 2.06-.94-2.06-.94-.94-2.06-.94 2.06-2.06.94zm-11 1L8.5 8.5l.94-2.06 2.06-.94-2.06-.94L8.5 2.5l-.94 2.06-2.06.94zm10 10l.94 2.06.94-2.06 2.06-.94-2.06-.94-.94-2.06-.94 2.06-2.06.94z\"/><path d=\"M17.41 7.96l-1.37-1.37c-.4-.4-.92-.59-1.43-.59-.52 0-1.04.2-1.43.59L10.3 9.45l-7.72 7.72c-.78.78-.78 2.05 0 2.83L4 21.41c.39.39.9.59 1.41.59.51 0 1.02-.2 1.41-.59l7.78-7.78 2.81-2.81c.8-.78.8-2.07 0-2.86zM5.41 20L4 18.59l7.72-7.72 1.47 1.35L5.41 20z\"/>\n",
              "  </svg>\n",
              "      </button>\n",
              "      \n",
              "  <style>\n",
              "    .colab-df-container {\n",
              "      display:flex;\n",
              "      flex-wrap:wrap;\n",
              "      gap: 12px;\n",
              "    }\n",
              "\n",
              "    .colab-df-convert {\n",
              "      background-color: #E8F0FE;\n",
              "      border: none;\n",
              "      border-radius: 50%;\n",
              "      cursor: pointer;\n",
              "      display: none;\n",
              "      fill: #1967D2;\n",
              "      height: 32px;\n",
              "      padding: 0 0 0 0;\n",
              "      width: 32px;\n",
              "    }\n",
              "\n",
              "    .colab-df-convert:hover {\n",
              "      background-color: #E2EBFA;\n",
              "      box-shadow: 0px 1px 2px rgba(60, 64, 67, 0.3), 0px 1px 3px 1px rgba(60, 64, 67, 0.15);\n",
              "      fill: #174EA6;\n",
              "    }\n",
              "\n",
              "    [theme=dark] .colab-df-convert {\n",
              "      background-color: #3B4455;\n",
              "      fill: #D2E3FC;\n",
              "    }\n",
              "\n",
              "    [theme=dark] .colab-df-convert:hover {\n",
              "      background-color: #434B5C;\n",
              "      box-shadow: 0px 1px 3px 1px rgba(0, 0, 0, 0.15);\n",
              "      filter: drop-shadow(0px 1px 2px rgba(0, 0, 0, 0.3));\n",
              "      fill: #FFFFFF;\n",
              "    }\n",
              "  </style>\n",
              "\n",
              "      <script>\n",
              "        const buttonEl =\n",
              "          document.querySelector('#df-7b5bdf18-4615-43a6-8c6a-8f354d80c61a button.colab-df-convert');\n",
              "        buttonEl.style.display =\n",
              "          google.colab.kernel.accessAllowed ? 'block' : 'none';\n",
              "\n",
              "        async function convertToInteractive(key) {\n",
              "          const element = document.querySelector('#df-7b5bdf18-4615-43a6-8c6a-8f354d80c61a');\n",
              "          const dataTable =\n",
              "            await google.colab.kernel.invokeFunction('convertToInteractive',\n",
              "                                                     [key], {});\n",
              "          if (!dataTable) return;\n",
              "\n",
              "          const docLinkHtml = 'Like what you see? Visit the ' +\n",
              "            '<a target=\"_blank\" href=https://colab.research.google.com/notebooks/data_table.ipynb>data table notebook</a>'\n",
              "            + ' to learn more about interactive tables.';\n",
              "          element.innerHTML = '';\n",
              "          dataTable['output_type'] = 'display_data';\n",
              "          await google.colab.output.renderOutput(dataTable, element);\n",
              "          const docLink = document.createElement('div');\n",
              "          docLink.innerHTML = docLinkHtml;\n",
              "          element.appendChild(docLink);\n",
              "        }\n",
              "      </script>\n",
              "    </div>\n",
              "  </div>\n",
              "  "
            ]
          },
          "metadata": {},
          "execution_count": 14
        }
      ]
    },
    {
      "cell_type": "code",
      "source": [
        "# get dictionary to map tweet ids to doc ids\n",
        "# we know the ids file is a list of [doc_id \\t tweet_id]\n",
        "with open(\"drive/MyDrive/data/tweet_document_ids_map.csv\", \"r\") as id_file:\n",
        "    ids = csv.reader(id_file, delimiter=\"\\t\")\n",
        "    dict_ids = {id_to_id[1]: id_to_id[0] for id_to_id in list(ids)}"
      ],
      "metadata": {
        "id": "28lVkxbeLE5g"
      },
      "id": "28lVkxbeLE5g",
      "execution_count": null,
      "outputs": []
    },
    {
      "cell_type": "code",
      "source": [
        "# map tweet ids with doc ids\n",
        "for ele in range(len(new)):\n",
        "    tweet_id = str(new[\"id\"][ele])\n",
        "    new[\"id\"][ele] = dict_ids[tweet_id]"
      ],
      "metadata": {
        "id": "GMZdPWXcLjN4",
        "outputId": "30209c06-fcde-44bd-ae13-dfd8dfe80718",
        "colab": {
          "base_uri": "https://localhost:8080/"
        }
      },
      "id": "GMZdPWXcLjN4",
      "execution_count": 13,
      "outputs": [
        {
          "output_type": "stream",
          "name": "stderr",
          "text": [
            "/usr/local/lib/python3.7/dist-packages/ipykernel_launcher.py:4: SettingWithCopyWarning: \n",
            "A value is trying to be set on a copy of a slice from a DataFrame\n",
            "\n",
            "See the caveats in the documentation: https://pandas.pydata.org/pandas-docs/stable/user_guide/indexing.html#returning-a-view-versus-a-copy\n",
            "  after removing the cwd from sys.path.\n",
            "/usr/local/lib/python3.7/dist-packages/pandas/core/indexing.py:1732: SettingWithCopyWarning: \n",
            "A value is trying to be set on a copy of a slice from a DataFrame\n",
            "\n",
            "See the caveats in the documentation: https://pandas.pydata.org/pandas-docs/stable/user_guide/indexing.html#returning-a-view-versus-a-copy\n",
            "  self._setitem_single_block(indexer, value, name)\n"
          ]
        }
      ]
    }
  ],
  "metadata": {
    "kernelspec": {
      "display_name": "Python 3 (ipykernel)",
      "language": "python",
      "name": "python3"
    },
    "language_info": {
      "codemirror_mode": {
        "name": "ipython",
        "version": 3
      },
      "file_extension": ".py",
      "mimetype": "text/x-python",
      "name": "python",
      "nbconvert_exporter": "python",
      "pygments_lexer": "ipython3",
      "version": "3.10.2"
    },
    "colab": {
      "provenance": []
    }
  },
  "nbformat": 4,
  "nbformat_minor": 5
}